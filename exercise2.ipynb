{
  "nbformat": 4,
  "nbformat_minor": 0,
  "metadata": {
    "colab": {
      "provenance": [],
      "include_colab_link": true
    },
    "kernelspec": {
      "name": "python3",
      "display_name": "Python 3"
    }
  },
  "cells": [
    {
      "cell_type": "markdown",
      "metadata": {
        "id": "view-in-github",
        "colab_type": "text"
      },
      "source": [
        "<a href=\"https://colab.research.google.com/github/Tomoyasu-san/python-ensyu/blob/main/exercise2.ipynb\" target=\"_parent\"><img src=\"https://colab.research.google.com/assets/colab-badge.svg\" alt=\"Open In Colab\"/></a>"
      ]
    },
    {
      "cell_type": "markdown",
      "source": [],
      "metadata": {
        "id": "0puAXsato1kI"
      }
    },
    {
      "cell_type": "markdown",
      "metadata": {
        "id": "920wQYwZMtfN"
      },
      "source": [
        "# 演習\n",
        "Pythonのコードを修正し、エラーが発生しないようにしましょう。"
      ]
    },
    {
      "cell_type": "markdown",
      "metadata": {
        "id": "fEbTVQgTM4CU"
      },
      "source": [
        "## 課題1\n",
        "以下の、リストに奇数を格納し表示するコードを実行するとエラーが発生します。  \n",
        "問題箇所を修正し、実行してもエラーが発生しないようにしましょう。"
      ]
    },
    {
      "cell_type": "code",
      "metadata": {
        "id": "RvXWGy1jNE7d",
        "colab": {
          "base_uri": "https://localhost:8080/",
          "height": 135
        },
        "outputId": "60e8d31b-3a63-4813-c51f-ad51c76e8690"
      },
      "source": [
        "a = []\n",
        "for i range(0, 10):\n",
        "    if i%2 == 1:\n",
        "        a.append(i)\n",
        "\n",
        "print (a)"
      ],
      "execution_count": null,
      "outputs": [
        {
          "output_type": "error",
          "ename": "SyntaxError",
          "evalue": "ignored",
          "traceback": [
            "\u001b[0;36m  File \u001b[0;32m\"<ipython-input-1-3a76003b6c60>\"\u001b[0;36m, line \u001b[0;32m2\u001b[0m\n\u001b[0;31m    for i range(0, 10):\u001b[0m\n\u001b[0m          ^\u001b[0m\n\u001b[0;31mSyntaxError\u001b[0m\u001b[0;31m:\u001b[0m invalid syntax\n"
          ]
        }
      ]
    },
    {
      "cell_type": "markdown",
      "metadata": {
        "id": "o4TvHUzvOVEG"
      },
      "source": [
        "## 課題2\n",
        "以下の、インスタンスを2つ生成し、リストに格納して表示するコードを実行するとエラーが発生します。  \n",
        "問題箇所を修正し、実行してもエラーが発生しないようにしましょう。  \n",
        "なお、修正箇所は一箇所とは限りません。"
      ]
    },
    {
      "cell_type": "code",
      "source": [],
      "metadata": {
        "id": "j73dAX_bUN3H"
      },
      "execution_count": null,
      "outputs": []
    },
    {
      "cell_type": "code",
      "metadata": {
        "id": "DVpSTK_gOc5N",
        "outputId": "34c7cc74-9925-4d62-bf39-299f24e6605c",
        "colab": {
          "base_uri": "https://localhost:8080/",
          "height": 135
        }
      },
      "source": [
        "class Cat:\n",
        "    def set_cat(self, n, a):\n",
        "        self.name = n\n",
        "        self.age = a\n",
        "        \n",
        "cat1 = Cat()\n",
        "cat1.set_cat(\"Tama\", 4)\n",
        "\n",
        "cat2 = Cat()\n",
        "cat2.set_cat(\"Hana\" 14)\n",
        "\n",
        "cats = [cat1, cat2]  # リストに格納\n",
        "for c in cats\n",
        "    print(c.name, c.age)"
      ],
      "execution_count": null,
      "outputs": [
        {
          "output_type": "error",
          "ename": "SyntaxError",
          "evalue": "ignored",
          "traceback": [
            "\u001b[0;36m  File \u001b[0;32m\"<ipython-input-1-8dfc54c5e32a>\"\u001b[0;36m, line \u001b[0;32m10\u001b[0m\n\u001b[0;31m    cat2.set_cat(\"Hana\" 14)\u001b[0m\n\u001b[0m                        ^\u001b[0m\n\u001b[0;31mSyntaxError\u001b[0m\u001b[0;31m:\u001b[0m invalid syntax\n"
          ]
        }
      ]
    },
    {
      "cell_type": "markdown",
      "source": [
        "##回答例\n"
      ],
      "metadata": {
        "id": "grzK9iQ-p7jd"
      }
    },
    {
      "cell_type": "code",
      "source": [
        "a = []\n",
        "for i in range(0, 10):\n",
        "    if i%2 == 1:\n",
        "        a.append(i)\n",
        "\n",
        "print (a)"
      ],
      "metadata": {
        "id": "6wUzcWSAqE75"
      },
      "execution_count": null,
      "outputs": []
    },
    {
      "cell_type": "code",
      "source": [
        "class Cat:\n",
        "    def set_cat(self, n, a):\n",
        "        self.name = n\n",
        "        self.age = a\n",
        "        \n",
        "cat1 = Cat()\n",
        "cat1.set_cat(\"Tama\", 4)\n",
        "\n",
        "cat2 = Cat()\n",
        "cat2.set_cat(\"Hana\", 14)\n",
        "\n",
        "cats = [cat1, cat2]  # リストに格納\n",
        "for c in cats:\n",
        "    print(c.name, c.age)"
      ],
      "metadata": {
        "id": "37qKpJ7LqrzY"
      },
      "execution_count": null,
      "outputs": []
    },
    {
      "cell_type": "markdown",
      "metadata": {
        "id": "o3vxFS_TTNg2"
      },
      "source": [
        "## 演習結果\n"
      ]
    },
    {
      "cell_type": "code",
      "metadata": {
        "id": "GTBNDFC6TZ7w",
        "colab": {
          "base_uri": "https://localhost:8080/"
        },
        "outputId": "88627735-1825-4d97-a46e-31b89a888dbe"
      },
      "source": [
        "a = []\n",
        "for i in range(0, 10):\n",
        "    if i%2 == 1:\n",
        "        a.append(i)\n",
        "\n",
        "print (a)"
      ],
      "execution_count": 2,
      "outputs": [
        {
          "output_type": "stream",
          "name": "stdout",
          "text": [
            "[1, 3, 5, 7, 9]\n"
          ]
        }
      ]
    },
    {
      "cell_type": "code",
      "metadata": {
        "id": "WirKZ5tnTaGJ"
      },
      "source": [
        "class Cat:\n",
        "    def set_cat(self, n, a):\n",
        "        self.name = n\n",
        "        self.age = a\n",
        "        \n",
        "cat1 = Cat()\n",
        "cat1.set_cat(\"Tama\", 4)\n",
        "\n",
        "cat2 = Cat()\n",
        "cat2.set_cat(\"Hana\", 14)\n",
        "\n",
        "cats = [cat1, cat2]  # リストに格納\n",
        "for c in cats:\n",
        "    print(c.name, c.age)"
      ],
      "execution_count": null,
      "outputs": []
    }
  ]
}